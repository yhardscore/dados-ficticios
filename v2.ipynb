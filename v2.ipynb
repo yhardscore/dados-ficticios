{
 "cells": [
  {
   "cell_type": "code",
   "execution_count": null,
   "metadata": {
    "vscode": {
     "languageId": "plaintext"
    }
   },
   "outputs": [],
   "source": [
    "import seaborn as sns\n",
    "import matplotlib.pyplot as plt\n",
    "\n",
    "# Contagem de materiais com e sem perda\n",
    "sns.countplot(x=df[\"Perda_Material\"], palette=\"Blues\")\n",
    "plt.xlabel(\"Perda de Material (0 = Sem perda, 1 = Com perda)\")\n",
    "plt.ylabel(\"Número de Registros\")\n",
    "plt.title(\"Distribuição de Perdas de Material\")\n",
    "plt.xticks(ticks=[0,1], labels=[\"Sem Perda\", \"Com Perda\"])\n",
    "plt.show()\n"
   ]
  },
  {
   "cell_type": "code",
   "execution_count": null,
   "metadata": {
    "vscode": {
     "languageId": "plaintext"
    }
   },
   "outputs": [],
   "source": [
    "plt.figure(figsize=(8,5))\n",
    "sns.scatterplot(x=df[\"Quantidade_Usada\"], y=df[\"Quantidade_Desperdiçada\"], hue=df[\"Perda_Material\"], palette=\"coolwarm\")\n",
    "plt.xlabel(\"Quantidade Usada\")\n",
    "plt.ylabel(\"Quantidade Desperdiçada\")\n",
    "plt.title(\"Relação entre Quantidade Usada e Quantidade Desperdiçada\")\n",
    "plt.show()\n"
   ]
  },
  {
   "cell_type": "code",
   "execution_count": null,
   "metadata": {
    "vscode": {
     "languageId": "plaintext"
    }
   },
   "outputs": [],
   "source": [
    "plt.figure(figsize=(8,5))\n",
    "sns.boxplot(x=df[\"Categoria\"], y=df[\"Quantidade_Desperdiçada\"], palette=\"Blues\")\n",
    "plt.xlabel(\"Categoria do Material\")\n",
    "plt.ylabel(\"Quantidade Desperdiçada\")\n",
    "plt.title(\"Distribuição da Perda de Material por Categoria\")\n",
    "plt.show()\n"
   ]
  }
 ],
 "metadata": {
  "language_info": {
   "name": "python"
  }
 },
 "nbformat": 4,
 "nbformat_minor": 2
}
